{
  "nbformat": 4,
  "nbformat_minor": 0,
  "metadata": {
    "colab": {
      "provenance": [],
      "authorship_tag": "ABX9TyP9mhN38K51+5PQCLzmfBzT",
      "include_colab_link": true
    },
    "kernelspec": {
      "name": "python3",
      "display_name": "Python 3"
    },
    "language_info": {
      "name": "python"
    }
  },
  "cells": [
    {
      "cell_type": "markdown",
      "metadata": {
        "id": "view-in-github",
        "colab_type": "text"
      },
      "source": [
        "<a href=\"https://colab.research.google.com/github/40116341054080/Sakhtemandadeh/blob/main/Untitled17.ipynb\" target=\"_parent\"><img src=\"https://colab.research.google.com/assets/colab-badge.svg\" alt=\"Open In Colab\"/></a>"
      ]
    },
    {
      "cell_type": "code",
      "source": [
        "\n",
        "class Graph():\n",
        "            def __init__(self, n):\n",
        "                self.size = n\n",
        "                self.M = []\n",
        "\n",
        "\n",
        "                self.M = [[0] * n for i in range(n)]\n",
        "\n",
        "            def addEdge(self, v1, v2):\n",
        "                self.M[v1][v2] = 1\n",
        "                self.M[v2][v1] = 1\n",
        "\n",
        "            def removeEdge(self, v1, v2):\n",
        "                self.M[v1][v2] = 0\n",
        "                self.M[v2][v1] = 0\n",
        "\n",
        "            def print_matrix(self):\n",
        "                for row in self.M:\n",
        "                    for j in row:\n",
        "                        print(j, end='  ')\n",
        "                    print()\n",
        "\n",
        "g = Graph(4)\n",
        "\n",
        "g.addEdge(0, 1)\n",
        "g.addEdge(0, 2)\n",
        "g.addEdge(1, 2)\n",
        "g.addEdge(2, 3)\n",
        "\n",
        "g.print_matrix()"
      ],
      "metadata": {
        "colab": {
          "base_uri": "https://localhost:8080/"
        },
        "id": "c3XCSTD4eIvO",
        "outputId": "1cdbfe01-27a7-47a5-8052-49e1c15b7d23"
      },
      "execution_count": null,
      "outputs": [
        {
          "output_type": "stream",
          "name": "stdout",
          "text": [
            "0  1  1  0  \n",
            "1  0  1  0  \n",
            "1  1  0  1  \n",
            "0  0  1  0  \n"
          ]
        }
      ]
    },
    {
      "cell_type": "code",
      "source": [],
      "metadata": {
        "id": "dhAeoy_EwdQL"
      },
      "execution_count": null,
      "outputs": []
    },
    {
      "cell_type": "code",
      "source": [],
      "metadata": {
        "id": "SAacm46uuOPT"
      },
      "execution_count": null,
      "outputs": []
    }
  ]
}