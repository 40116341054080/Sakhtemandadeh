{
  "nbformat": 4,
  "nbformat_minor": 0,
  "metadata": {
    "colab": {
      "provenance": [],
      "authorship_tag": "ABX9TyN/QLN+ohFzx7I4izqDvW41",
      "include_colab_link": true
    },
    "kernelspec": {
      "name": "python3",
      "display_name": "Python 3"
    },
    "language_info": {
      "name": "python"
    }
  },
  "cells": [
    {
      "cell_type": "markdown",
      "metadata": {
        "id": "view-in-github",
        "colab_type": "text"
      },
      "source": [
        "<a href=\"https://colab.research.google.com/github/40116341054080/Sakhtemandadeh/blob/main/Untitled17.ipynb\" target=\"_parent\"><img src=\"https://colab.research.google.com/assets/colab-badge.svg\" alt=\"Open In Colab\"/></a>"
      ]
    },
    {
      "cell_type": "code",
      "source": [
        "\n",
        "class Graph():\n",
        "            def __init__(self, n):\n",
        "                self.size = n\n",
        "                self.M = []\n",
        "\n",
        "\n",
        "                self.M = [[0] * n for i in range(n)]\n",
        "\n",
        "            def addEdge(self, v1, v2):\n",
        "                self.M[v1][v2] = 1\n",
        "                self.M[v2][v1] = 1\n",
        "\n",
        "            def removeEdge(self, v1, v2):\n",
        "                self.M[v1][v2] = 0\n",
        "                self.M[v2][v1] = 0\n",
        "\n",
        "            def print_matrix(self):\n",
        "                for row in self.M:\n",
        "                    for j in row:\n",
        "                        print(j, end='  ')\n",
        "                    print()\n",
        "\n",
        "g = Graph(4)\n",
        "\n",
        "g.addEdge(0, 1)\n",
        "g.addEdge(0, 2)\n",
        "g.addEdge(1, 2)\n",
        "g.addEdge(2, 3)\n",
        "\n",
        "g.print_matrix()"
      ],
      "metadata": {
        "colab": {
          "base_uri": "https://localhost:8080/"
        },
        "id": "c3XCSTD4eIvO",
        "outputId": "1cdbfe01-27a7-47a5-8052-49e1c15b7d23"
      },
      "execution_count": null,
      "outputs": [
        {
          "output_type": "stream",
          "name": "stdout",
          "text": [
            "0  1  1  0  \n",
            "1  0  1  0  \n",
            "1  1  0  1  \n",
            "0  0  1  0  \n"
          ]
        }
      ]
    },
    {
      "cell_type": "code",
      "source": [
        "def show(self):\n",
        "                            for i in range(self.V):\n",
        "                                print(i, \"\\: head\\\", end=' ')\n",
        "                                t = self.graph[i]\n",
        "                            while t:\n",
        "                                print(\\\"-> {}\\\".format(t.vertex), end=' ')\n",
        "                                t = t.next\n",
        "                            print(\\\" \\\\n\\\")"
      ],
      "metadata": {
        "colab": {
          "base_uri": "https://localhost:8080/",
          "height": 194
        },
        "id": "dhAeoy_EwdQL",
        "outputId": "20fab607-9a0c-432d-8644-171ee6cd6eeb"
      },
      "execution_count": null,
      "outputs": [
        {
          "output_type": "error",
          "ename": "SyntaxError",
          "evalue": "ignored",
          "traceback": [
            "\u001b[0;36m  File \u001b[0;32m\"<ipython-input-66-ab61afc94d9a>\"\u001b[0;36m, line \u001b[0;32m3\u001b[0m\n\u001b[0;31m    print(i, \"\\: head\\\", end=' ')\u001b[0m\n\u001b[0m             ^\u001b[0m\n\u001b[0;31mSyntaxError\u001b[0m\u001b[0;31m:\u001b[0m unterminated string literal (detected at line 3)\n"
          ]
        }
      ]
    },
    {
      "cell_type": "code",
      "source": [],
      "metadata": {
        "id": "SAacm46uuOPT",
        "colab": {
          "base_uri": "https://localhost:8080/",
          "height": 194
        },
        "outputId": "725f888c-ff07-48d2-bb10-06874cfee414"
      },
      "execution_count": null,
      "outputs": [
        {
          "output_type": "error",
          "ename": "IndentationError",
          "evalue": "ignored",
          "traceback": [
            "\u001b[0;36m  File \u001b[0;32m\"<ipython-input-54-8dd75f7719d9>\"\u001b[0;36m, line \u001b[0;32m21\u001b[0m\n\u001b[0;31m    print(i, \"= head\", end=' ')\u001b[0m\n\u001b[0m    ^\u001b[0m\n\u001b[0;31mIndentationError\u001b[0m\u001b[0;31m:\u001b[0m expected an indented block after 'for' statement on line 20\n"
          ]
        }
      ]
    }
  ]
}