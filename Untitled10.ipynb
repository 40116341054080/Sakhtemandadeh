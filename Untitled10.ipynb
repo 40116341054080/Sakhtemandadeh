{
  "nbformat": 4,
  "nbformat_minor": 0,
  "metadata": {
    "colab": {
      "provenance": [],
      "authorship_tag": "ABX9TyPNzVG9JNxsqfspNtvw5tQx",
      "include_colab_link": true
    },
    "kernelspec": {
      "name": "python3",
      "display_name": "Python 3"
    },
    "language_info": {
      "name": "python"
    }
  },
  "cells": [
    {
      "cell_type": "markdown",
      "metadata": {
        "id": "view-in-github",
        "colab_type": "text"
      },
      "source": [
        "<a href=\"https://colab.research.google.com/github/40116341054080/Sakhtemandadeh/blob/main/Untitled10.ipynb\" target=\"_parent\"><img src=\"https://colab.research.google.com/assets/colab-badge.svg\" alt=\"Open In Colab\"/></a>"
      ]
    },
    {
      "cell_type": "code",
      "execution_count": null,
      "metadata": {
        "id": "5J-Lg2VSnzgK"
      },
      "outputs": [],
      "source": [
        "class Node():\n",
        "   def __init__(self,data=None):\n",
        "       self.left = None\n",
        "       self.right = None\n",
        "       self.data = data"
      ]
    },
    {
      "cell_type": "code",
      "source": [],
      "metadata": {
        "id": "7fb3X7HiDYnS"
      },
      "execution_count": null,
      "outputs": []
    },
    {
      "cell_type": "code",
      "source": [
        "def Inorder(r):\n",
        "       if r:\n",
        "          Inorder(r.left)\n",
        "          print(r.data, end ='')\n",
        "          Inorder(r.right)\n",
        "r = Node(1)\n",
        "r.left=Node(2)\n",
        "r.right=Node(3)\n",
        "r.left.left=Node(4)\n",
        "r.left.right=Node(5)\n",
        "\n",
        "Inorder(r)"
      ],
      "metadata": {
        "colab": {
          "base_uri": "https://localhost:8080/"
        },
        "id": "5ZwfIk0Jwd5Z",
        "outputId": "e954e6f2-bf2c-47ff-bec2-eecddc7b131e"
      },
      "execution_count": null,
      "outputs": [
        {
          "output_type": "stream",
          "name": "stdout",
          "text": [
            "42513"
          ]
        }
      ]
    },
    {
      "cell_type": "code",
      "source": [
        "def postorder(r):\n",
        "       if r:\n",
        "          postorder(r.left)\n",
        "          postorder(r. right)\n",
        "          print(r.data,end='')"
      ],
      "metadata": {
        "id": "YFxWSFyVD7v-"
      },
      "execution_count": null,
      "outputs": []
    },
    {
      "cell_type": "code",
      "source": [
        "def preorder(r):\n",
        "       if r:\n",
        "          print(r.data,end='')\n",
        "          preorder(r.left)\n",
        "          postorder(r. right)"
      ],
      "metadata": {
        "id": "vNAKpaaREsgC"
      },
      "execution_count": null,
      "outputs": []
    },
    {
      "cell_type": "code",
      "source": [
        "preorder(r)"
      ],
      "metadata": {
        "colab": {
          "base_uri": "https://localhost:8080/"
        },
        "id": "PiYrcDYWFLam",
        "outputId": "ccc6e549-1d5e-47ca-c29e-12ac9a111794"
      },
      "execution_count": null,
      "outputs": [
        {
          "output_type": "stream",
          "name": "stdout",
          "text": [
            "12453"
          ]
        }
      ]
    },
    {
      "cell_type": "code",
      "source": [
        "postorder(r)"
      ],
      "metadata": {
        "id": "h9wmmN5vFUZ7",
        "outputId": "a19f0149-9b65-4920-c22e-164f8d9e09a0",
        "colab": {
          "base_uri": "https://localhost:8080/"
        }
      },
      "execution_count": null,
      "outputs": [
        {
          "output_type": "stream",
          "name": "stdout",
          "text": [
            "45231"
          ]
        }
      ]
    },
    {
      "cell_type": "code",
      "source": [
        "class BTree() :\n",
        "   def __init__(self,root=None) :\n",
        "          self.root=root\n",
        "   def inorder(self, root) :\n",
        "       if(root==None) :\n",
        "             return\n",
        "       else:\n",
        "            self.inorder(root.left)\n",
        "            print(root.data)\n",
        "            self.inorder(root.right)\n",
        "\n",
        "r = Node(1)\n",
        "r.left=Node(2)\n",
        "r.right=Node(3)\n",
        "r.left.left=Node(4)\n",
        "r.left.right=Node(5)\n",
        "bt=BTree()\n",
        "bt.inorder(r)"
      ],
      "metadata": {
        "id": "LmMH0S2BwyYI",
        "colab": {
          "base_uri": "https://localhost:8080/"
        },
        "outputId": "d4527d9e-636d-48f7-c260-17c34edebc5a"
      },
      "execution_count": null,
      "outputs": [
        {
          "output_type": "stream",
          "name": "stdout",
          "text": [
            "4\n",
            "2\n",
            "5\n",
            "1\n",
            "3\n"
          ]
        }
      ]
    },
    {
      "cell_type": "code",
      "source": [],
      "metadata": {
        "id": "iM3g8_dC9yHJ"
      },
      "execution_count": null,
      "outputs": []
    }
  ]
}