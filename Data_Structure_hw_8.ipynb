{
  "nbformat": 4,
  "nbformat_minor": 0,
  "metadata": {
    "colab": {
      "provenance": [],
      "include_colab_link": true
    },
    "kernelspec": {
      "name": "python3",
      "display_name": "Python 3"
    },
    "language_info": {
      "name": "python"
    }
  },
  "cells": [
    {
      "cell_type": "markdown",
      "metadata": {
        "id": "view-in-github",
        "colab_type": "text"
      },
      "source": [
        "<a href=\"https://colab.research.google.com/github/40116341054080/Sakhtemandadeh/blob/main/Data_Structure_hw_8.ipynb\" target=\"_parent\"><img src=\"https://colab.research.google.com/assets/colab-badge.svg\" alt=\"Open In Colab\"/></a>"
      ]
    },
    {
      "cell_type": "code",
      "source": [
        "#1\n",
        "\n",
        "class BTnode:\n",
        "\n",
        "  def __init__(self, data, left = None, right = None):\n",
        "    self.data = data\n",
        "    self.right = right\n",
        "    self.left = left\n",
        "\n",
        "n = BTnode(1,BTnode(2),BTnode(3,None,BTnode(4)))\n",
        "\n",
        "\n",
        "class BTree:\n",
        "\n",
        "  def __init__(self, root = None):\n",
        "    self.root = root\n",
        "\n",
        "  # LNR order\n",
        "  def inorder(self, root):\n",
        "    if root == None :\n",
        "      return\n",
        "    else:\n",
        "      self.inorder(root.left)\n",
        "      print(root.data)\n",
        "      self.inorder(root.right)\n",
        "\n",
        "tree = BTnode(1,BTnode(2,BTnode(4),BTnode(5)),BTnode(3))\n",
        "\n",
        "tree1 = BTree()\n",
        "tree1.inorder(tree)"
      ],
      "metadata": {
        "colab": {
          "base_uri": "https://localhost:8080/"
        },
        "id": "_NFjKB3HSLNh",
        "outputId": "992eec60-e491-47a6-b149-8299da16c87e"
      },
      "execution_count": null,
      "outputs": [
        {
          "output_type": "stream",
          "name": "stdout",
          "text": [
            "4\n",
            "2\n",
            "5\n",
            "1\n",
            "3\n"
          ]
        }
      ]
    }
  ]
}