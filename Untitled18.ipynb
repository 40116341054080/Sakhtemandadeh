{
  "nbformat": 4,
  "nbformat_minor": 0,
  "metadata": {
    "colab": {
      "provenance": [],
      "authorship_tag": "ABX9TyMlBSL6pV8HtjykQf/vFINN",
      "include_colab_link": true
    },
    "kernelspec": {
      "name": "python3",
      "display_name": "Python 3"
    },
    "language_info": {
      "name": "python"
    }
  },
  "cells": [
    {
      "cell_type": "markdown",
      "metadata": {
        "id": "view-in-github",
        "colab_type": "text"
      },
      "source": [
        "<a href=\"https://colab.research.google.com/github/40116341054080/Sakhtemandadeh/blob/main/Untitled18.ipynb\" target=\"_parent\"><img src=\"https://colab.research.google.com/assets/colab-badge.svg\" alt=\"Open In Colab\"/></a>"
      ]
    },
    {
      "cell_type": "code",
      "execution_count": 1,
      "metadata": {
        "id": "udde0Q5PyMSb"
      },
      "outputs": [],
      "source": [
        "class C_LinkedList:\n",
        "    def init(self):\n",
        "       self.head=None"
      ]
    },
    {
      "cell_type": "code",
      "source": [
        "def display(self):\n",
        "   t=self.head\n",
        "   if t is None:\n",
        "     print(\"empty\")\n",
        "     return\n",
        "   while t.next!=self.head:\n",
        "       Print(t.data,end='-->')\n",
        "       t=t.next\n",
        "   print(t.data)"
      ],
      "metadata": {
        "id": "BsJoREXRyjg4"
      },
      "execution_count": 2,
      "outputs": []
    },
    {
      "cell_type": "code",
      "source": [
        "def add_first(self, data):\n",
        "   n=node(data)\n",
        "   if self.head==None:\n",
        "     self.head=n\n",
        "     n.next=n\n",
        "     return\n",
        "   n.next=self.head\n",
        "   t=self.head\n",
        "   while t.next!=self.head:\n",
        "       t=t.next\n",
        "   t.next=n\n",
        "   self.head=n"
      ],
      "metadata": {
        "id": "ZeG-aOodyk9U"
      },
      "execution_count": 3,
      "outputs": []
    },
    {
      "cell_type": "code",
      "source": [
        "def add_after(self, m, data):\n",
        "   if self.head==None:\n",
        "     return -1\n",
        "   n=node(data)\n",
        "   t=self.head\n",
        "   while t.data!=m:\n",
        "       t=t.next\n",
        "       if t==self.head:\n",
        "         return -1"
      ],
      "metadata": {
        "id": "ziaVxlPhynus"
      },
      "execution_count": 6,
      "outputs": []
    },
    {
      "cell_type": "code",
      "source": [],
      "metadata": {
        "id": "gKElEC78yrcp"
      },
      "execution_count": 30,
      "outputs": []
    }
  ]
}