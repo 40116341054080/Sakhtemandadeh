{
  "nbformat": 4,
  "nbformat_minor": 0,
  "metadata": {
    "colab": {
      "provenance": [],
      "authorship_tag": "ABX9TyPqPtbLYFi3t9No0XNPIiZF",
      "include_colab_link": true
    },
    "kernelspec": {
      "name": "python3",
      "display_name": "Python 3"
    },
    "language_info": {
      "name": "python"
    }
  },
  "cells": [
    {
      "cell_type": "markdown",
      "metadata": {
        "id": "view-in-github",
        "colab_type": "text"
      },
      "source": [
        "<a href=\"https://colab.research.google.com/github/40116341054080/Sakhtemandadeh/blob/main/Untitled21.ipynb\" target=\"_parent\"><img src=\"https://colab.research.google.com/assets/colab-badge.svg\" alt=\"Open In Colab\"/></a>"
      ]
    },
    {
      "cell_type": "code",
      "execution_count": 2,
      "metadata": {
        "colab": {
          "base_uri": "https://localhost:8080/"
        },
        "id": "uQ4v7f0PBFb0",
        "outputId": "05d14a1a-790b-4719-db8d-fa879c88bad2"
      },
      "outputs": [
        {
          "output_type": "stream",
          "name": "stdout",
          "text": [
            "6 <--> 8 <--> 7\n",
            "6 <--> 7\n"
          ]
        }
      ],
      "source": [
        "class dnode:\n",
        "\n",
        "  def __init__(self,data):\n",
        "    self.data = data\n",
        "    self.next = None\n",
        "    self.prev = None\n",
        "\n",
        "class cdlinkedlist:\n",
        "\n",
        "  def __init__(self):\n",
        "    self.head = None\n",
        "\n",
        "  def display(self):\n",
        "    t = self.head\n",
        "    while (t.next != self.head):\n",
        "      print(t.data, end= ' <--> ')\n",
        "      t = t.next\n",
        "    print(t.data)\n",
        "\n",
        "  def addfirst(self, data):\n",
        "    n = dnode(data)\n",
        "    if (self.head == None):\n",
        "      self.head = n\n",
        "      n.next = n\n",
        "      n.prev = n\n",
        "      return\n",
        "    else:\n",
        "      n.next = self.head\n",
        "      self.head.prev = n\n",
        "      t = self.head\n",
        "      while t.next != self.head:\n",
        "        t = t.next\n",
        "      t.next = n\n",
        "      n.prev = t\n",
        "      self.head = n\n",
        "\n",
        "  def addafter(self, m, data):\n",
        "    if (self.head == None):\n",
        "      return -1\n",
        "    else:\n",
        "      n = dnode(data)\n",
        "      t = self.head\n",
        "      while (t.data != m):\n",
        "        t = t.data\n",
        "      n.next = t.next\n",
        "      t.next.prev = n\n",
        "      t.next = n\n",
        "      n.prev = t\n",
        "\n",
        "  def delete(self, m):\n",
        "    if (self.head == None):\n",
        "      print('empty')\n",
        "      return\n",
        "    elif (self.head.next == self.head) and (self.head.prev == self.head):\n",
        "      if (self.head.data == m):\n",
        "        self.head == None\n",
        "        return\n",
        "      return -1\n",
        "    else:\n",
        "      t = self.head\n",
        "      while (t.data != m):\n",
        "        t = t.next\n",
        "        if (t == self.head):\n",
        "          return -1\n",
        "      t.prev.next = t.next\n",
        "      t.next.prev = t.prev\n",
        "      t.next = None\n",
        "      t.prev = None\n",
        "\n",
        "########### MAIN ####################3\n",
        "t = dnode(4)\n",
        "n = cdlinkedlist()\n",
        "n.addfirst(6)\n",
        "n.addafter(6, 7)\n",
        "n.addafter(6, 8)\n",
        "n.display()\n",
        "n.delete(8)\n",
        "n.display()"
      ]
    }
  ]
}