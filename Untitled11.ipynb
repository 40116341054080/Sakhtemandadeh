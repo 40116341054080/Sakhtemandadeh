{
  "nbformat": 4,
  "nbformat_minor": 0,
  "metadata": {
    "colab": {
      "provenance": [],
      "authorship_tag": "ABX9TyPNDs7p0sCF4O7E47xCn6KD",
      "include_colab_link": true
    },
    "kernelspec": {
      "name": "python3",
      "display_name": "Python 3"
    },
    "language_info": {
      "name": "python"
    }
  },
  "cells": [
    {
      "cell_type": "markdown",
      "metadata": {
        "id": "view-in-github",
        "colab_type": "text"
      },
      "source": [
        "<a href=\"https://colab.research.google.com/github/40116341054080/Sakhtemandadeh/blob/main/Untitled11.ipynb\" target=\"_parent\"><img src=\"https://colab.research.google.com/assets/colab-badge.svg\" alt=\"Open In Colab\"/></a>"
      ]
    },
    {
      "cell_type": "code",
      "execution_count": 15,
      "metadata": {
        "id": "gbdvkp0B0bqb"
      },
      "outputs": [],
      "source": [
        "class Node:\n",
        "   def __init__(self, key) :\n",
        "      self.key=key\n",
        "      self.left=None\n",
        "      self.right=None\n",
        "\n",
        "\n",
        "\n",
        "   def minvalue (root) :\n",
        "       if root is None:\n",
        "           return root\n",
        "       while root.left is not None:\n",
        "             root= root.left\n",
        "       return root.key\n",
        "   def minNode (r) :\n",
        "       if r.left is None:\n",
        "           return r\n",
        "       else:\n",
        "            minNode(r.left)\n",
        "       return"
      ]
    },
    {
      "cell_type": "code",
      "source": [
        "def inorder (root):\n",
        "    if root is not None :\n",
        "        inorder (root.left)\n",
        "        print(root.key,end=\"\")\n",
        "        inorder(root.right)"
      ],
      "metadata": {
        "id": "RdP8cdrwAsQM"
      },
      "execution_count": 5,
      "outputs": []
    },
    {
      "cell_type": "code",
      "source": [
        "def insert(root, k) :\n",
        "       if root is None:\n",
        "           return Node(k)\n",
        "       if k < root.key:\n",
        "           root.left=insert(root.left,k)\n",
        "       else:\n",
        "           root.right= insert(root.right,k)\n",
        "       return root"
      ],
      "metadata": {
        "id": "PFh-e-T-BaL8"
      },
      "execution_count": 7,
      "outputs": []
    },
    {
      "cell_type": "code",
      "source": [
        "def search(root,k) :\n",
        "       if root is None or root.key==k:\n",
        "           return root\n",
        "       if k > root.key:\n",
        "          return search(root.right,k)\n",
        "       return search(root.left,k)"
      ],
      "metadata": {
        "id": "H75zmzP2B04l"
      },
      "execution_count": 8,
      "outputs": []
    },
    {
      "cell_type": "code",
      "source": [
        "r=None\n",
        "r=insert(r, 4)\n",
        "r=insert(r, 2)\n",
        "r=insert(r, 3)\n",
        "r=insert(r, 6)\n",
        "r=insert(r, 5)\n",
        "r=insert(r, 7)\n",
        "r=insert(r,1 )"
      ],
      "metadata": {
        "id": "WrodjwPGB71G"
      },
      "execution_count": 9,
      "outputs": []
    },
    {
      "cell_type": "code",
      "source": [
        "inorder(r)"
      ],
      "metadata": {
        "colab": {
          "base_uri": "https://localhost:8080/"
        },
        "id": "vQCnL5EYCjTo",
        "outputId": "1e47c0b4-d5ac-4752-cf91-b2843370d6c8"
      },
      "execution_count": 10,
      "outputs": [
        {
          "output_type": "stream",
          "name": "stdout",
          "text": [
            "1234567"
          ]
        }
      ]
    },
    {
      "cell_type": "code",
      "source": [
        "r=insert(r, 8)\n",
        "inorder(r)"
      ],
      "metadata": {
        "colab": {
          "base_uri": "https://localhost:8080/"
        },
        "id": "OfTNaY_fCsjN",
        "outputId": "3e4b875c-03bb-412e-e87e-c4fae8f4b269"
      },
      "execution_count": 11,
      "outputs": [
        {
          "output_type": "stream",
          "name": "stdout",
          "text": [
            "12345678"
          ]
        }
      ]
    },
    {
      "cell_type": "code",
      "source": [
        "a=search(r, 7)\n",
        "print(a.key)"
      ],
      "metadata": {
        "colab": {
          "base_uri": "https://localhost:8080/"
        },
        "id": "DjehGHUTDbWv",
        "outputId": "8505b2e8-0780-4e98-deec-83e1229aec4a"
      },
      "execution_count": 16,
      "outputs": [
        {
          "output_type": "stream",
          "name": "stdout",
          "text": [
            "7\n"
          ]
        }
      ]
    }
  ]
}