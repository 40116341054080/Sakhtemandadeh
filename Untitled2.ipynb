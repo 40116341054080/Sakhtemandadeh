{
  "nbformat": 4,
  "nbformat_minor": 0,
  "metadata": {
    "colab": {
      "provenance": [],
      "authorship_tag": "ABX9TyOrQhzVFEXmcEXqFc+0LSMt",
      "include_colab_link": true
    },
    "kernelspec": {
      "name": "python3",
      "display_name": "Python 3"
    },
    "language_info": {
      "name": "python"
    }
  },
  "cells": [
    {
      "cell_type": "markdown",
      "metadata": {
        "id": "view-in-github",
        "colab_type": "text"
      },
      "source": [
        "<a href=\"https://colab.research.google.com/github/40116341054080/Sakhtemandadeh/blob/main/Untitled2.ipynb\" target=\"_parent\"><img src=\"https://colab.research.google.com/assets/colab-badge.svg\" alt=\"Open In Colab\"/></a>"
      ]
    },
    {
      "cell_type": "code",
      "execution_count": null,
      "metadata": {
        "colab": {
          "base_uri": "https://localhost:8080/"
        },
        "id": "jDOiB-y5NyRJ",
        "outputId": "25333da7-b163-4fc2-ad66-a99aaa9ff573"
      },
      "outputs": [
        {
          "output_type": "stream",
          "name": "stdout",
          "text": [
            "time:0.016874091000005365 \n"
          ]
        }
      ],
      "source": [
        "import timeit\n",
        "code=''''''\n",
        "n=1000000\n",
        "def unigue(s) :\n",
        "    for j in range(len(s)) :\n",
        "        for k in range(j+1,len(s)):\n",
        "            if s[j] ==s[k] :\n",
        "                return false\n",
        "\n",
        "''''''\n",
        "\n",
        "executiontime=timeit.timeit(code, )\n",
        "print(f\"time:{executiontime} \")"
      ]
    }
  ]
}