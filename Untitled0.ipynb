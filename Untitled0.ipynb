{
  "nbformat": 4,
  "nbformat_minor": 0,
  "metadata": {
    "colab": {
      "provenance": [],
      "authorship_tag": "ABX9TyN4xP4nA5pKGsl6yglW3uqu",
      "include_colab_link": true
    },
    "kernelspec": {
      "name": "python3",
      "display_name": "Python 3"
    },
    "language_info": {
      "name": "python"
    }
  },
  "cells": [
    {
      "cell_type": "markdown",
      "metadata": {
        "id": "view-in-github",
        "colab_type": "text"
      },
      "source": [
        "<a href=\"https://colab.research.google.com/github/40116341054080/Sakhtemandadeh/blob/main/Untitled0.ipynb\" target=\"_parent\"><img src=\"https://colab.research.google.com/assets/colab-badge.svg\" alt=\"Open In Colab\"/></a>"
      ]
    },
    {
      "cell_type": "code",
      "execution_count": null,
      "metadata": {
        "id": "Ex7oY-qMIU4f",
        "outputId": "770068ff-8f86-48e0-9926-e763f1cb4580",
        "colab": {
          "base_uri": "https://localhost:8080/"
        }
      },
      "outputs": [
        {
          "output_type": "stream",
          "name": "stdout",
          "text": [
            "n=10\n",
            "1\n",
            "Time: 7.183151054999996\n"
          ]
        }
      ],
      "source": [
        "import timeit\n",
        "start=timeit.default_timer()\n",
        "def max (lst):\n",
        "   x=lst[0]\n",
        "   for i in range(1,len(lst)):\n",
        "     if lst[i]>x:\n",
        "       x=lst[i]\n",
        "   return x\n",
        "n=input(\"n=\" )\n",
        "print(max(n))\n",
        "stop=timeit.default_timer()\n",
        "\n",
        "print(\"Time:\" ,stop-start)"
      ]
    }
  ]
}